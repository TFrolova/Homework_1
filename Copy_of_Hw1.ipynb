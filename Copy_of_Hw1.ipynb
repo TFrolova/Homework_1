{
  "nbformat": 4,
  "nbformat_minor": 0,
  "metadata": {
    "colab": {
      "provenance": [],
      "include_colab_link": true
    },
    "kernelspec": {
      "name": "python3",
      "display_name": "Python 3"
    },
    "language_info": {
      "name": "python"
    }
  },
  "cells": [
    {
      "cell_type": "markdown",
      "metadata": {
        "id": "view-in-github",
        "colab_type": "text"
      },
      "source": [
        "<a href=\"https://colab.research.google.com/github/TFrolova/Homework_1/blob/main/Copy_of_Hw1.ipynb\" target=\"_parent\"><img src=\"https://colab.research.google.com/assets/colab-badge.svg\" alt=\"Open In Colab\"/></a>"
      ]
    },
    {
      "cell_type": "markdown",
      "source": [
        "#Домашняя работа 1\n"
      ],
      "metadata": {
        "id": "cJrbXTJYj1Vx"
      }
    },
    {
      "cell_type": "markdown",
      "source": [
        "## Задача 1\n",
        "###Условный оператор if-elif-else\n",
        "\n"
      ],
      "metadata": {
        "id": "_iLN1A20j8Dg"
      }
    },
    {
      "cell_type": "markdown",
      "source": [
        "В ячейке ниже - код \"определителя душевной боли\" от 1 до 10. Давайте его улучшим:\n",
        "\n",
        "* добавьте условие для случаев, если пользователь вводит число больше 10\n",
        "\n",
        "* добавьте еще два условия, чтобы разделение на категории душевной боли было еще точнее\n",
        "* добавьте к вещественным числам примеры, чтобы пользователю было легче оценить свою душевную боль (например, шкала от утреннего кофе, пролитого на рубашку, до студента на сессии...)\n",
        "\n",
        "Подсказка: будет легче, если нарисовать себе схему условий на бумаге\n",
        "\n"
      ],
      "metadata": {
        "id": "-3ReUhPtvDXk"
      }
    },
    {
      "cell_type": "code",
      "execution_count": 27,
      "metadata": {
        "id": "OmlJttoJi9gQ",
        "colab": {
          "base_uri": "https://localhost:8080/"
        },
        "outputId": "d12b7888-80fe-40c6-ac89-9fc23c7b18b9"
      },
      "outputs": [
        {
          "output_type": "stream",
          "name": "stdout",
          "text": [
            "Оцените силу вашей душевной боли по шкале от 0 до 10: ззз\n",
            "Измените значение на число\n"
          ]
        }
      ],
      "source": [
        "# определитель душевной боли\n",
        "\n",
        "try: # чтобы написать в except что будет, если не цифра\n",
        "  a = float(input('Оцените силу вашей душевной боли по шкале от 0 до 10: '))\n",
        "  if a > 10:\n",
        "    print('Это нечеловечески плохо, так не бывает, измените значение на число от 0 до 10')\n",
        "  elif a < 0:\n",
        "    print('Кажется, вам стоит воспользоваться определителем радости или изменить значение')\n",
        "  elif a == 0:\n",
        "    print('Всё в порядке, верно?')\n",
        "  elif a < 1:\n",
        "    print('Кажется, вы испытываете легкое огорчение')\n",
        "  elif 1 <= a <= 5:\n",
        "    print('Ах, какая досада!')\n",
        "  elif 5 <= a <= 8:\n",
        "    print('Грустно')\n",
        "  elif 8 <= a < 10:\n",
        "    print('Очень грустно!')\n",
        "  else:\n",
        "    print('Кошмар! Всё пропало!')\n",
        "except:\n",
        "  print('Измените значение на число')"
      ]
    },
    {
      "cell_type": "markdown",
      "source": [
        "##Задача 2\n",
        "### Список, цикл for\n",
        "\n",
        "В hse_prediction должны храниться короткие предсказания, однако они случайно перепутались с новогодними обещаниями. \n",
        "\n",
        "Данные организованы в виде списка, состоящего из списков. Напишите программу, которая выводит на печать случайное предсказание, проверяя при этом, что строки, начинающиеся с фразы \"В новом году...\" не будут напечатаны.\n",
        "\n",
        "Хороший алгоритм: сначала удалить \"лишние\" новогодние обещания с помощью метода списков, затем напечатать случайное предсказание из оставшегося списка"
      ],
      "metadata": {
        "id": "9sdH0TO1_m5G"
      }
    },
    {
      "cell_type": "code",
      "source": [
        "import random\n",
        "\n",
        "hse_prediction = [\n",
        "    ['Слушайте каждого. Идеи приходят отовсюду.'],\n",
        "    ['Скоро контрольная точка по нелюбимому предмету('],\n",
        "    ['В новом году обещаю себе смотреть не больше трех серий сериала за раз'],\n",
        "    ['Угостите преподавателя конфеткой!'],\n",
        "    ['Хорошие новости придут к вам по  Яндекс почте.'],\n",
        "    ['Что ни делается - все к лучшему, и даже первая пара, ожидающая Вас в обновлённом расписании.'],\n",
        "    ['Делайте то, чего просит душа и тело - не идите на пары!'],\n",
        "    ['Пора собирать чемоданы: Вас ждет экспедиция на Сахалин!'],\n",
        "    ['Пришло время сдать все долги.'],\n",
        "    ['Вы не получите автомат по физре в следующем полугодии.'],\n",
        "    ['В новом году обещаю себе спать'],\n",
        "    ['Если вы ждали знака - то ВОТ ОН! Срочно участвуйте в ближайшей конференции!'],\n",
        "    ['Вам повысят стипендию на 1000 рублей в этом году.'],\n",
        "    ['Ураааааааааааа! Завтра одни только  лекции!'],\n",
        "    ['Все лучшее происходит,когда Вас нет на паре!'],\n",
        "    ['На мобильность только в Питер'],\n",
        "    ['В новом году обещаю себе защитить диссертацию'],\n",
        "    ['В новом году обещаю себе запомнить имена одногруппников'],\n",
        "    ['Через час  Вы снова проголодаетесь. Шоколад можно найти в магазине.']\n",
        "]\n",
        "\n",
        "predictions_without_vow = []\n",
        "# ужасно длинное имя, но иначе я забываю про что объект\n",
        "\n",
        "for phrase_list in hse_prediction:\n",
        "# для каждой фразы, упакованной в список, из исходного списка\n",
        "  for phrase in phrase_list:\n",
        "# для фразы содержащейся в этой упаковке\n",
        "    if not phrase.startswith('В новом году'):\n",
        "# если фраза НЕ начинается со слов \"В Новом году\"\n",
        "      predictions_without_vow.append(phrase)\n",
        "# складываем эти фразы в новый список с длинным именем\n",
        "\n",
        "#print (*predictions_without_vow, sep=\"\\n\") # это проверка, что все лишние фразы ушли, \\n - перенос строки, * распаковывает список\n",
        "\n",
        "prediction = random.choice(predictions_without_vow)\n",
        "print(prediction)\n",
        "\n",
        "#Комментарий и вопрос: первая попытка выкинуть лишнее не сработала, она была такая:\n",
        "#for phrase_list in hse_prediction:\n",
        "#  for phrase in phrase_list:\n",
        "#    if phrase.startswith('В новом году'):\n",
        "#      hse_prediction.remove(phrase_list)\n",
        "#for phrase_list in hse_prediction:      \n",
        "#  print(*phrase_list)\n",
        "# дело в том, что оставалась одна лишняя запись в том месте, где две негодняе строчки идут подряд\n",
        "# как с этим можно справиться? можно ли всё-таки решить эту задачу при помощи for и remove?\n"
      ],
      "metadata": {
        "id": "xz4TzPgjCSNG",
        "colab": {
          "base_uri": "https://localhost:8080/"
        },
        "outputId": "00b91bff-08b9-48c8-db4c-67400a4df3e0"
      },
      "execution_count": 29,
      "outputs": [
        {
          "output_type": "stream",
          "name": "stdout",
          "text": [
            "Вам повысят стипендию на 1000 рублей в этом году.\n"
          ]
        }
      ]
    },
    {
      "cell_type": "markdown",
      "source": [
        "## Задача 3\n",
        "###Множества"
      ],
      "metadata": {
        "id": "840zUYgtxx_o"
      }
    },
    {
      "cell_type": "markdown",
      "source": [
        "Алиса коллекционирует открыткм, которые она получила из разных стран от друзей. Она знает, что Мария прислала ей открытку из Лондона, Лоренцо -- из Милана, Олег - из Канберры, Ханс -- из Кальгари, Марк -- тоже из Милана, Алекс - из Кракова, и совсем недавно пришла открытка от Юлии из Мурманска.\n",
        "\n",
        "Сейчас ее архив выглядит вот так:\n"
      ],
      "metadata": {
        "id": "p3pqApP1yFoY"
      }
    },
    {
      "cell_type": "code",
      "source": [
        "postcards = {\n",
        "    \"Maria\": \"London\",\n",
        "    \"Lorenzo\": \"Milan\",\n",
        "    \"Oleg\": \"Canberra\",\n",
        "    \"Hans\": \"Calgary\",\n",
        "    \"Mark\": \"Milan\",\n",
        "    \"Alex\": \"Krakow\",\n",
        "    \"Julia\": \"Murmansk\"\n",
        "\n",
        "}"
      ],
      "metadata": {
        "id": "JbmNqePsyFLA"
      },
      "execution_count": 4,
      "outputs": []
    },
    {
      "cell_type": "markdown",
      "source": [
        "Однажды Алиса показала Вам свою бумажную коллекцию, и Вы заметили неточности:\n",
        "\n",
        "* в архиве не хватает двух открыток: от Петры из Парижа и от Ивана из Москвы. Добавьте их в архив Алисы.\n",
        "\n",
        "* открытка, присланная Олегом на самом деле не из Канберры, а из Сиднея. Исправьте город на верный, изменив значение по ключу в словаре.\n",
        "\n",
        "* Алиса говорит, что в ее коллекции более 10 уникальных городов. Сколько их на самом деле? Выведите названия этих городов."
      ],
      "metadata": {
        "id": "NmtoxtXNMI9Z"
      }
    },
    {
      "cell_type": "code",
      "source": [
        "postcards[\"Petra\"] = \"Paris\"\n",
        "postcards[\"Ivan\"] = \"Moscow\"\n",
        "print(postcards)\n",
        "# добавляю две открытки"
      ],
      "metadata": {
        "colab": {
          "base_uri": "https://localhost:8080/"
        },
        "id": "9l3k-T9wAHvM",
        "outputId": "c779c208-4d89-4202-b9ec-ce17454c6b59"
      },
      "execution_count": 9,
      "outputs": [
        {
          "output_type": "stream",
          "name": "stdout",
          "text": [
            "{'Maria': 'London', 'Lorenzo': 'Milan', 'Oleg': 'Canberra', 'Hans': 'Calgary', 'Mark': 'Milan', 'Alex': 'Krakow', 'Julia': 'Murmansk', 'Petra': 'Paris', 'Ivan': 'Moscow'}\n"
          ]
        }
      ]
    },
    {
      "cell_type": "code",
      "source": [
        "postcards[\"Oleg\"] = \"Sydney\"\n",
        "print(postcards)\n",
        "# меняю город Олега"
      ],
      "metadata": {
        "colab": {
          "base_uri": "https://localhost:8080/"
        },
        "id": "NPc43VznA7E6",
        "outputId": "3036683b-d466-48ec-c757-a87e8657bca2"
      },
      "execution_count": 11,
      "outputs": [
        {
          "output_type": "stream",
          "name": "stdout",
          "text": [
            "{'Maria': 'London', 'Lorenzo': 'Milan', 'Oleg': 'Sydney', 'Hans': 'Calgary', 'Mark': 'Milan', 'Alex': 'Krakow', 'Julia': 'Murmansk', 'Petra': 'Paris', 'Ivan': 'Moscow'}\n"
          ]
        }
      ]
    },
    {
      "cell_type": "code",
      "source": [
        "cities_set = set(postcards.values())\n",
        "print(cities_set)\n",
        "# проверяю города на уникальность при помощи множества"
      ],
      "metadata": {
        "colab": {
          "base_uri": "https://localhost:8080/"
        },
        "id": "h94rFLAw-P7L",
        "outputId": "586f8333-752d-4f1e-bee9-e9d417dec682"
      },
      "execution_count": 12,
      "outputs": [
        {
          "output_type": "stream",
          "name": "stdout",
          "text": [
            "{'Paris', 'Krakow', 'Calgary', 'London', 'Milan', 'Murmansk', 'Sydney', 'Moscow'}\n"
          ]
        }
      ]
    },
    {
      "cell_type": "code",
      "source": [
        "print(len(cities_set))\n",
        "# пересчитываю города"
      ],
      "metadata": {
        "colab": {
          "base_uri": "https://localhost:8080/"
        },
        "id": "9Fane2POBcGV",
        "outputId": "cbb96a88-dd9f-4c6c-879c-71739d9c2e94"
      },
      "execution_count": 13,
      "outputs": [
        {
          "output_type": "stream",
          "name": "stdout",
          "text": [
            "8\n"
          ]
        }
      ]
    },
    {
      "cell_type": "code",
      "source": [
        "print (*cities_set, sep=\"\\n\") \n",
        "#  \\n - перенос строки, * распаковывает список\n",
        "# вывожу названия городов"
      ],
      "metadata": {
        "colab": {
          "base_uri": "https://localhost:8080/"
        },
        "id": "pAbXcJ1PB-OC",
        "outputId": "e0ae3825-0641-47b6-f9cc-3aec862782e4"
      },
      "execution_count": 23,
      "outputs": [
        {
          "output_type": "stream",
          "name": "stdout",
          "text": [
            "Paris\n",
            "Krakow\n",
            "Calgary\n",
            "London\n",
            "Milan\n",
            "Murmansk\n",
            "Sydney\n",
            "Moscow\n"
          ]
        }
      ]
    }
  ]
}